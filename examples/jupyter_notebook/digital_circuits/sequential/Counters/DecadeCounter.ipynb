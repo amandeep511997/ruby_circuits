{
 "cells": [
  {
   "cell_type": "markdown",
   "metadata": {},
   "source": [
    "# Sequential Circuits | Decade Counter"
   ]
  },
  {
   "cell_type": "markdown",
   "metadata": {},
   "source": [
    "All Counters are in the module **Counter**. All methods available can be found in the documentation."
   ]
  },
  {
   "cell_type": "code",
   "execution_count": 1,
   "metadata": {},
   "outputs": [
    {
     "data": {
      "text/plain": [
       "true"
      ]
     },
     "execution_count": 1,
     "metadata": {},
     "output_type": "execute_result"
    }
   ],
   "source": [
    "# load gemfile ruby_circuits.rb\n",
    "require '../../../../../lib/ruby_ciruits'"
   ]
  },
  {
   "cell_type": "code",
   "execution_count": 2,
   "metadata": {},
   "outputs": [
    {
     "data": {
      "text/plain": [
       "1"
      ]
     },
     "execution_count": 2,
     "metadata": {},
     "output_type": "execute_result"
    }
   ],
   "source": [
    "# Create a clock instance - 5Hz frequency\n",
    "clock = Clock.new(1, 5)\n",
    "clock.start()\n",
    "\n",
    "clk_conn = clock.clock_connector\n",
    "\n",
    "# create a enable connector\n",
    "enable = Connector.new(1)"
   ]
  },
  {
   "cell_type": "code",
   "execution_count": 3,
   "metadata": {},
   "outputs": [
    {
     "data": {
      "text/plain": [
       "#<Counter::Decade:0x00561a9e2f4c70 @bits=4, @out=[0, 0, 0, 0], @out_inverse=[1, 1, 1, 1], @out_old=[0, 0, 0, 0], @out_old_inverse=[1, 1, 1, 1], @ff=[#<FlipFlop::T:0x00561a9e2ef8b0 @A=0, @B=1, @clk=0, @clk_old_value=1, @enable=1, @J=1, @K=1, @preset=1, @clear=1>, #<FlipFlop::T:0x00561a9e2f0d78 @A=0, @B=1, @clk=0, @clk_old_value=1, @enable=1, @J=1, @K=1, @preset=1, @clear=1>, #<FlipFlop::T:0x00561a9e2f1f20 @A=0, @B=1, @clk=0, @clk_old_value=1, @enable=1, @J=1, @K=1, @preset=1, @clear=1>, #<FlipFlop::T:0x00561a9e2f3000 @A=0, @B=1, @clk=0, @clk_old_value=1, @enable=1, @J=1, @K=1, @preset=1, @clear=1>], @enable=1, @t=1, @clk=0, @set_once=false, @reset_once=true, @bits_fixed=true, @ripple_type=true, @preset=1, @clear=1, @nand_gate=1>"
      ]
     },
     "execution_count": 3,
     "metadata": {},
     "output_type": "execute_result"
    }
   ],
   "source": [
    "# Initialize the counter\n",
    "dc = Counter::Decade.new(clk_conn)"
   ]
  },
  {
   "cell_type": "code",
   "execution_count": 4,
   "metadata": {},
   "outputs": [
    {
     "name": "stdout",
     "output_type": "stream",
     "text": [
      "\u001b[0m\u001b[0m"
     ]
    }
   ],
   "source": [
    "# Initiating the oscilloscope\n",
    "o = Oscilloscope.new([clk_conn, 'CLK'], [dc.out[0], 'BIT3'], [dc.out[1], 'BIT2'], \n",
    "  [dc.out[2], 'BIT1'], [dc.out[3], 'BIT0'], [enable, 'EN1'])\n",
    "o.start()\n",
    "o.set_scale(0.05)  # Set scale by trial and error.\n",
    "# Set the width of the oscilloscope to fit the ipython notebook.\n",
    "o.set_width(100)\n",
    "# unhold the oscilloscope to start the recording.\n",
    "o.unhold()"
   ]
  },
  {
   "cell_type": "code",
   "execution_count": 5,
   "metadata": {},
   "outputs": [
    {
     "name": "stdout",
     "output_type": "stream",
     "text": [
      "[0, 0, 0, 0]\n",
      "[0, 0, 0, 1]\n",
      "[0, 0, 1, 0]\n",
      "[0, 0, 1, 1]\n",
      "[0, 1, 0, 0]\n",
      "[0, 1, 0, 1]\n",
      "[0, 1, 1, 0]\n",
      "[0, 1, 1, 1]\n",
      "[1, 0, 0, 0]\n",
      "[1, 0, 0, 1]\n",
      "[0, 0, 0, 0]\n",
      "[0, 0, 0, 1]\n",
      "[0, 0, 1, 0]\n",
      "[0, 0, 1, 1]\n",
      "[0, 1, 0, 0]\n",
      "[0, 1, 0, 1]\n",
      "[0, 1, 1, 0]\n"
     ]
    },
    {
     "data": {
      "text/plain": [
       "1..16"
      ]
     },
     "execution_count": 5,
     "metadata": {},
     "output_type": "execute_result"
    }
   ],
   "source": [
    "# Initial state\n",
    "puts(dc.state())\n",
    "\n",
    "# Triggering the counter sequentially 2^4 times\n",
    "(1..2 ** 4).each do \n",
    "  dc.trigger()\n",
    "  puts(dc.state())\n",
    "end"
   ]
  },
  {
   "cell_type": "code",
   "execution_count": 13,
   "metadata": {},
   "outputs": [
    {
     "name": "stdout",
     "output_type": "stream",
     "text": [
      "\u001b[0m===================================================================================================================\n",
      "Oscilloscope\n",
      "===================================================================================================================\n",
      "                                                                               SCALE - X-AXIS : 1 UNIT WIDTH = 0.05\n",
      "===================================================================================================================\n",
      "          │\n",
      "          │\n",
      "          │    ┌───┐   ┌───┐   ┌───┐   ┌───┐   ┌───┐   ┌───┐   ┌───┐  ┌───┐   ┌───┐   ┌───┐   ┌───┐   ┌───┐   ┌─┐                                                 \n",
      "     CLK  │    │   │   │   │   │   │   │   │   │   │   │   │   │   │  │   │   │   │   │   │   │   │   │   │   │ │                                                 \n",
      "          ─ ───┘   └───┘   └───┘   └───┘   └───┘   └───┘   └───┘   └──┘   └───┘   └───┘   └───┘   └───┘   └───┘ └─────────────────────────────────────────────────\n",
      "          │\n",
      "          │\n",
      "          │\n",
      "          │\n",
      "          │ ┌───────────────────────────────────────────────────────────────────────────────────────────────────┐                                                 \n",
      "    BIT3  │ │                                                                                                   │                                                 \n",
      "          ─ ┘                                                                                                   └─────────────────────────────────────────────────\n",
      "          │\n",
      "          │\n",
      "          │\n",
      "          │\n",
      "          │                                                                                                                                                       \n",
      "    BIT2  │                                                                                                                                                       \n",
      "          ─ ──────────────────────────────────────────────────────────────────────────────────────────────────────────────────────────────────────────────────────\n",
      "          │\n",
      "          │\n",
      "          │\n",
      "          │\n",
      "          │ ┌───────────────────────────────────────────────────────────────────────────────────────────────────┐                                                 \n",
      "    BIT1  │ │                                                                                                   │                                                 \n",
      "          ─ ┘                                                                                                   └─────────────────────────────────────────────────\n",
      "          │\n",
      "          │\n",
      "          │\n",
      "          │\n",
      "          │                                                                                                                                                       \n",
      "    BIT0  │                                                                                                                                                       \n",
      "          ─ ──────────────────────────────────────────────────────────────────────────────────────────────────────────────────────────────────────────────────────\n",
      "          │\n",
      "          │\n",
      "          │\n",
      "          │\n",
      "          │ ┌───────────────────────────────────────────────────────────────────────────────────────────────────┐                                                 \n",
      "     EN1  │ │                                                                                                   │                                                 \n",
      "          ─ ┘                                                                                                   └─────────────────────────────────────────────────\n",
      "          │\n",
      "          │\n",
      "│││││││││││││││││││││││││││││││││││││││││││││││││││││││││││││││││││││││││││││││││││││││││││││││││││││││││││││││││││\n",
      "───────────────────────────────────────────────────────────────────────────────────────────────────────────────────\n",
      "\u001b[0m"
     ]
    }
   ],
   "source": [
    "# Display the oscilloscope\n",
    "o.display()"
   ]
  },
  {
   "cell_type": "code",
   "execution_count": 14,
   "metadata": {},
   "outputs": [
    {
     "name": "stdout",
     "output_type": "stream",
     "text": [
      "[1, 1, 1, 1]\n"
     ]
    }
   ],
   "source": [
    "# Setting the counter\n",
    "dc.set_counter()\n",
    "puts(dc.state())"
   ]
  },
  {
   "cell_type": "code",
   "execution_count": 16,
   "metadata": {},
   "outputs": [
    {
     "name": "stdout",
     "output_type": "stream",
     "text": [
      "[0, 0, 0, 0]\n"
     ]
    }
   ],
   "source": [
    "# Resetting the counter\n",
    "dc.reset_counter()\n",
    "puts(dc.state())"
   ]
  },
  {
   "cell_type": "code",
   "execution_count": 17,
   "metadata": {},
   "outputs": [
    {
     "name": "stdout",
     "output_type": "stream",
     "text": [
      "[0, 0, 0, 1]"
     ]
    }
   ],
   "source": [
    "# Enabling the Counter\n",
    "dc.enable()\n",
    "dc.trigger()\n",
    "print(dc.state())"
   ]
  },
  {
   "cell_type": "code",
   "execution_count": 18,
   "metadata": {},
   "outputs": [],
   "source": [
    "# Kill the clock and the oscilloscope after use to avoid overloading \n",
    "o.kill\n",
    "clock.kill"
   ]
  }
 ],
 "metadata": {
  "kernelspec": {
   "display_name": "Ruby 2.3.3",
   "language": "ruby",
   "name": "ruby"
  },
  "language_info": {
   "file_extension": ".rb",
   "mimetype": "application/x-ruby",
   "name": "ruby",
   "version": "2.3.3"
  }
 },
 "nbformat": 4,
 "nbformat_minor": 2
}
