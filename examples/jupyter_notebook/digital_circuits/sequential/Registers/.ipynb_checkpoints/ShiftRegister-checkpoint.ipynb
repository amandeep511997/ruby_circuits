{
 "cells": [
  {
   "cell_type": "markdown",
   "metadata": {},
   "source": [
    "# Sequential Circuits | Shift Register"
   ]
  },
  {
   "cell_type": "markdown",
   "metadata": {},
   "source": [
    "All Registers are in the module **Register**. All methods available can be found in the documentation."
   ]
  },
  {
   "cell_type": "code",
   "execution_count": 1,
   "metadata": {},
   "outputs": [
    {
     "data": {
      "text/plain": [
       "true"
      ]
     },
     "execution_count": 1,
     "metadata": {},
     "output_type": "execute_result"
    }
   ],
   "source": [
    "# load gemfile ruby_circuits.rb\n",
    "require '../../../../../lib/ruby_ciruits'"
   ]
  },
  {
   "cell_type": "code",
   "execution_count": 2,
   "metadata": {},
   "outputs": [
    {
     "name": "stdout",
     "output_type": "stream",
     "text": [
      "[1, 1, 0, 1]\n"
     ]
    }
   ],
   "source": [
    "# Create a clock instance - clock of 500 hertz frequency\n",
    "clock = Clock.new(1, 500)\n",
    "clock.start()\n",
    "\n",
    "# Create a Shift Register instance\n",
    "sr = Register::Shift.new([1, 0, 1, 1], clock, Connector.new(1), 0)\n",
    "\n",
    "# Output of the Register\n",
    "puts(sr.output())"
   ]
  },
  {
   "cell_type": "code",
   "execution_count": 3,
   "metadata": {},
   "outputs": [
    {
     "name": "stdout",
     "output_type": "stream",
     "text": [
      "[1, 1, 0, 1]\n"
     ]
    }
   ],
   "source": [
    "# Circuilar shift register\n",
    "sr = Register::Shift.new([1, 0, 1, 1], clock, Connector.new(1), 1)\n",
    "\n",
    "# Output of the Register\n",
    "puts(sr.output())"
   ]
  },
  {
   "cell_type": "code",
   "execution_count": 4,
   "metadata": {},
   "outputs": [
    {
     "name": "stdout",
     "output_type": "stream",
     "text": [
      "[1, 1, 0, 0]\n"
     ]
    }
   ],
   "source": [
    "# changing input at index 1 to 0\n",
    "sr.set_input(1, 0)\n",
    "\n",
    "# new input of the register\n",
    "puts(sr.output())"
   ]
  },
  {
   "cell_type": "code",
   "execution_count": 5,
   "metadata": {},
   "outputs": [
    {
     "name": "stdout",
     "output_type": "stream",
     "text": [
      "[1, 1, 1, 1]\n",
      "[1, 1, 1, 1]\n"
     ]
    }
   ],
   "source": [
    "# Changing all inputs at once\n",
    "sr.set_inputs([1, 1, 1, 1])\n",
    "\n",
    "# to get the input states \n",
    "puts(sr.get_input_states())\n",
    "\n",
    "# output of the register\n",
    "puts(sr.output())"
   ]
  },
  {
   "cell_type": "code",
   "execution_count": 6,
   "metadata": {},
   "outputs": [
    {
     "name": "stdout",
     "output_type": "stream",
     "text": [
      "0\n"
     ]
    }
   ],
   "source": [
    "# Using Connectors as the input lines\n",
    "conn = Connector.new\n",
    "\n",
    "# Set Output of gate to Connector conn\n",
    "sr.set_output(2, conn)\n",
    "\n",
    "# Put this connector as the input to gate\n",
    "gate = LogicGates::AND.new(conn, 0)\n",
    "\n",
    "# Output of the gate\n",
    "puts(gate.output())"
   ]
  }
 ],
 "metadata": {
  "kernelspec": {
   "display_name": "Ruby 2.3.3",
   "language": "ruby",
   "name": "ruby"
  },
  "language_info": {
   "file_extension": ".rb",
   "mimetype": "application/x-ruby",
   "name": "ruby",
   "version": "2.3.3"
  }
 },
 "nbformat": 4,
 "nbformat_minor": 2
}
