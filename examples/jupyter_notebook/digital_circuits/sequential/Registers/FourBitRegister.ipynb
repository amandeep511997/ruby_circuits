{
 "cells": [
  {
   "cell_type": "markdown",
   "metadata": {},
   "source": [
    "# Sequential Circuits | 4 Bit Register"
   ]
  },
  {
   "cell_type": "markdown",
   "metadata": {},
   "source": [
    "All Registers are in the module **Register**. All methods available can be found in the documentation."
   ]
  },
  {
   "cell_type": "code",
   "execution_count": 1,
   "metadata": {},
   "outputs": [
    {
     "data": {
      "text/plain": [
       "true"
      ]
     },
     "execution_count": 1,
     "metadata": {},
     "output_type": "execute_result"
    }
   ],
   "source": [
    "# load gemfile ruby_circuits.rb\n",
    "require '../../../../../lib/ruby_ciruits'"
   ]
  },
  {
   "cell_type": "code",
   "execution_count": 7,
   "metadata": {},
   "outputs": [
    {
     "name": "stdout",
     "output_type": "stream",
     "text": [
      "[1, 0, 1, 1]\n"
     ]
    }
   ],
   "source": [
    "# Create a clock instance - clock of 500 hertz frequency\n",
    "clock = Clock.new(1, 500)\n",
    "clock.start()\n",
    "\n",
    "# Create a 4 Bit Register instance\n",
    "fr = Register::FourBit.new(1, 0, 1, 1, clock, 1)\n",
    "\n",
    "# Output of the Register\n",
    "puts(fr.output())"
   ]
  },
  {
   "cell_type": "code",
   "execution_count": 8,
   "metadata": {},
   "outputs": [
    {
     "name": "stdout",
     "output_type": "stream",
     "text": [
      "[0, 0, 1, 1]\n"
     ]
    }
   ],
   "source": [
    "# When input at index 1 is changed to 0\n",
    "fr.set_input(0, 0)\n",
    "\n",
    "# New output of the register\n",
    "puts(fr.output())"
   ]
  },
  {
   "cell_type": "code",
   "execution_count": 9,
   "metadata": {},
   "outputs": [
    {
     "name": "stdout",
     "output_type": "stream",
     "text": [
      "[1, 1, 1, 1]\n",
      "[1, 1, 1, 1]\n"
     ]
    }
   ],
   "source": [
    "# When changing all inputs\n",
    "fr.set_inputs([1, 1, 1, 1])\n",
    "\n",
    "# to get the input states\n",
    "puts(fr.get_input_states())\n",
    "\n",
    "# New output of the register\n",
    "puts(fr.output())"
   ]
  },
  {
   "cell_type": "code",
   "execution_count": 10,
   "metadata": {},
   "outputs": [
    {
     "name": "stdout",
     "output_type": "stream",
     "text": [
      "0\n"
     ]
    }
   ],
   "source": [
    "# Using Connectors as the input lines\n",
    "conn = Connector.new\n",
    "\n",
    "# Set Output of gate to Connector conn\n",
    "fr.set_output(2, conn)\n",
    "\n",
    "# Put this connector as the input to gate\n",
    "gate = LogicGates::AND.new(conn, 0)\n",
    "\n",
    "# Output of the gate\n",
    "puts(gate.output())"
   ]
  }
 ],
 "metadata": {
  "kernelspec": {
   "display_name": "Ruby 2.3.3",
   "language": "ruby",
   "name": "ruby"
  },
  "language_info": {
   "file_extension": ".rb",
   "mimetype": "application/x-ruby",
   "name": "ruby",
   "version": "2.3.3"
  }
 },
 "nbformat": 4,
 "nbformat_minor": 2
}
