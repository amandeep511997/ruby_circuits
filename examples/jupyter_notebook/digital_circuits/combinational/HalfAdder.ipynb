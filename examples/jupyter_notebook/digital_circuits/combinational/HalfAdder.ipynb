{
 "cells": [
  {
   "cell_type": "markdown",
   "metadata": {},
   "source": [
    "# Combinational Circuits | Half Adder"
   ]
  },
  {
   "cell_type": "markdown",
   "metadata": {},
   "source": [
    "All Combinational circuit components are in the module **Combinational**. All methods available can be found in the documentation."
   ]
  },
  {
   "cell_type": "code",
   "execution_count": 1,
   "metadata": {},
   "outputs": [
    {
     "data": {
      "text/plain": [
       "true"
      ]
     },
     "execution_count": 1,
     "metadata": {},
     "output_type": "execute_result"
    }
   ],
   "source": [
    "# load gemfile ruby_circuits.rb\n",
    "require '../../../../lib/ruby_ciruits'"
   ]
  },
  {
   "cell_type": "code",
   "execution_count": 8,
   "metadata": {},
   "outputs": [
    {
     "name": "stdout",
     "output_type": "stream",
     "text": [
      "[0, 1]"
     ]
    }
   ],
   "source": [
    "# Creating a Half Adder instance \n",
    "ha = Combinational::HalfAdder.new(0, 1)\n",
    "\n",
    "# Print output of the Half Adder - output is of the form [carry, sum]\n",
    "print(ha.output())"
   ]
  },
  {
   "cell_type": "code",
   "execution_count": 4,
   "metadata": {},
   "outputs": [
    {
     "name": "stdout",
     "output_type": "stream",
     "text": [
      "[0, 0]"
     ]
    }
   ],
   "source": [
    "# We can change the inputs of the instance (ha), index by index\n",
    "# here, changing the input at index 1 to 0\n",
    "ha.set_input(1, 0)\n",
    "\n",
    "# The new output of the Half Adder is \n",
    "print(ha.output())"
   ]
  },
  {
   "cell_type": "code",
   "execution_count": 6,
   "metadata": {},
   "outputs": [
    {
     "name": "stdout",
     "output_type": "stream",
     "text": [
      "[1, 0]"
     ]
    }
   ],
   "source": [
    "# Changing all the inputs of the Half Adder at once \n",
    "ha.set_inputs(1, 1)\n",
    "\n",
    "# The new output of the Half Adder is \n",
    "print(ha.output())"
   ]
  },
  {
   "cell_type": "code",
   "execution_count": 7,
   "metadata": {},
   "outputs": [
    {
     "name": "stdout",
     "output_type": "stream",
     "text": [
      "0"
     ]
    }
   ],
   "source": [
    "## Adding Connectors to Half Adder\n",
    "\n",
    "# create a connector instance \n",
    "conn = Connector.new\n",
    "\n",
    "# setting output of an index into the connector(conn)\n",
    "ha.set_output(0, conn)\n",
    "\n",
    "# put this connector as an input to a gate \n",
    "gate = LogicGates::AND.new(conn, 0)\n",
    "\n",
    "# Get the final output from the gate\n",
    "print(gate.output())"
   ]
  }
 ],
 "metadata": {
  "kernelspec": {
   "display_name": "Ruby 2.3.3",
   "language": "ruby",
   "name": "ruby"
  },
  "language_info": {
   "file_extension": ".rb",
   "mimetype": "application/x-ruby",
   "name": "ruby",
   "version": "2.3.3"
  }
 },
 "nbformat": 4,
 "nbformat_minor": 2
}
