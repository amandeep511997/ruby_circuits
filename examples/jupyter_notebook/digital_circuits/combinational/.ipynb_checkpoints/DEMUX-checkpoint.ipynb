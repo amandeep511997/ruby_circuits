{
 "cells": [
  {
   "cell_type": "markdown",
   "metadata": {},
   "source": [
    "# Combinational Circuits | Demultiplexer(DEMUX)"
   ]
  },
  {
   "cell_type": "markdown",
   "metadata": {},
   "source": [
    "All Combinational circuit components are in the module **Combinational**. All methods available can be found in the documentation."
   ]
  },
  {
   "cell_type": "code",
   "execution_count": 1,
   "metadata": {},
   "outputs": [
    {
     "data": {
      "text/plain": [
       "true"
      ]
     },
     "execution_count": 1,
     "metadata": {},
     "output_type": "execute_result"
    }
   ],
   "source": [
    "# load gemfile ruby_circuits.rb\n",
    "require '../../../../lib/ruby_ciruits'"
   ]
  },
  {
   "cell_type": "code",
   "execution_count": 10,
   "metadata": {},
   "outputs": [
    {
     "name": "stdout",
     "output_type": "stream",
     "text": [
      "[1, 0][1]"
     ]
    }
   ],
   "source": [
    "# Creating a DEMUX instance\n",
    "demux = Combinational::DEMUX.new(1)\n",
    "\n",
    "# Add select lines - 2^n\n",
    "demux.select_lines(0)\n",
    "\n",
    "# output of the demux\n",
    "print(demux.output())\n",
    "print(demux.get_input_states())"
   ]
  },
  {
   "cell_type": "code",
   "execution_count": 14,
   "metadata": {},
   "outputs": [
    {
     "name": "stdout",
     "output_type": "stream",
     "text": [
      "[0, 0]"
     ]
    }
   ],
   "source": [
    "# Changing input at a specific index - At index 0 to value 0\n",
    "demux.set_input(0, 0)\n",
    "\n",
    "# New output of the mux\n",
    "print(demux.output())"
   ]
  },
  {
   "cell_type": "code",
   "execution_count": 15,
   "metadata": {},
   "outputs": [
    {
     "name": "stdout",
     "output_type": "stream",
     "text": [
      "[0]"
     ]
    }
   ],
   "source": [
    "# Get input states\n",
    "print(demux.get_input_states())"
   ]
  },
  {
   "cell_type": "code",
   "execution_count": 17,
   "metadata": {},
   "outputs": [
    {
     "name": "stdout",
     "output_type": "stream",
     "text": [
      "0"
     ]
    }
   ],
   "source": [
    "# Creating a connector instance\n",
    "conn = Connector.new\n",
    "\n",
    "# setting the output of the demux to the connector at a particular index\n",
    "demux.set_output(0, conn)\n",
    "\n",
    "# Passing the connector as an input to a gate\n",
    "gate = LogicGates::AND.new(conn, 0)\n",
    "\n",
    "# Output of the gate\n",
    "print(gate.output())"
   ]
  },
  {
   "cell_type": "code",
   "execution_count": 20,
   "metadata": {},
   "outputs": [
    {
     "name": "stdout",
     "output_type": "stream",
     "text": [
      "[0, 0]"
     ]
    }
   ],
   "source": [
    "# changing the select lines\n",
    "# Note : Input lines have 0 based indexing\n",
    "demux.select_line(0, 1)\n",
    "\n",
    "# New output of the MUX \n",
    "print(demux.output())"
   ]
  },
  {
   "cell_type": "code",
   "execution_count": 21,
   "metadata": {},
   "outputs": [
    {
     "name": "stdout",
     "output_type": "stream",
     "text": [
      "DEMUX"
     ]
    }
   ],
   "source": [
    "# Information about the instance\n",
    "print(demux)"
   ]
  }
 ],
 "metadata": {
  "kernelspec": {
   "display_name": "Ruby 2.3.3",
   "language": "ruby",
   "name": "ruby"
  },
  "language_info": {
   "file_extension": ".rb",
   "mimetype": "application/x-ruby",
   "name": "ruby",
   "version": "2.3.3"
  }
 },
 "nbformat": 4,
 "nbformat_minor": 2
}
