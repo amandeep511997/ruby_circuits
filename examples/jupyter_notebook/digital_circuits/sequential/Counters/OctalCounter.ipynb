{
 "cells": [
  {
   "cell_type": "markdown",
   "metadata": {},
   "source": [
    "# Sequential Circuits | Octal Counter"
   ]
  },
  {
   "cell_type": "markdown",
   "metadata": {},
   "source": [
    "All Counters are in the module **Counter**. All methods available can be found in the documentation."
   ]
  },
  {
   "cell_type": "code",
   "execution_count": 2,
   "metadata": {},
   "outputs": [
    {
     "data": {
      "text/plain": [
       "true"
      ]
     },
     "execution_count": 2,
     "metadata": {},
     "output_type": "execute_result"
    }
   ],
   "source": [
    "# load gemfile ruby_circuits.rb\n",
    "require '../../../../../lib/ruby_ciruits'"
   ]
  },
  {
   "cell_type": "code",
   "execution_count": 55,
   "metadata": {},
   "outputs": [
    {
     "data": {
      "text/plain": [
       "1"
      ]
     },
     "execution_count": 55,
     "metadata": {},
     "output_type": "execute_result"
    }
   ],
   "source": [
    "# Create a clock instance - 5Hz frequency\n",
    "clock = Clock.new(1, 5)\n",
    "clock.start()\n",
    "\n",
    "clk_conn = clock.clock_connector\n",
    "\n",
    "# create a enable connector\n",
    "enable = Connector.new(1)"
   ]
  },
  {
   "cell_type": "code",
   "execution_count": 56,
   "metadata": {},
   "outputs": [
    {
     "data": {
      "text/plain": [
       "#<Counter::Octal:0x00556332648a80 @bits=4, @out=[0, 0, 0, 0], @out_inverse=[1, 1, 1, 1], @out_old=[0, 0, 0, 0], @out_old_inverse=[1, 1, 1, 1], @ff=[#<FlipFlop::T:0x0055633263f8e0 @A=0, @B=1, @clk=0, @clk_old_value=1, @enable=1, @J=1, @K=1, @preset=1, @clear=1>, #<FlipFlop::T:0x00556332644908 @A=0, @B=1, @clk=0, @clk_old_value=1, @enable=1, @J=1, @K=1, @preset=1, @clear=1>, #<FlipFlop::T:0x00556332645b28 @A=0, @B=1, @clk=0, @clk_old_value=1, @enable=1, @J=1, @K=1, @preset=1, @clear=1>, #<FlipFlop::T:0x00556332647090 @A=0, @B=1, @clk=1, @clk_old_value=1, @enable=1, @J=1, @K=1, @preset=1, @clear=1>], @enable=1, @t=1, @clk=1, @set_once=false, @reset_once=true, @bits_fixed=true, @ripple_type=true, @preset=1, @clear=1, @not_gate=1>"
      ]
     },
     "execution_count": 56,
     "metadata": {},
     "output_type": "execute_result"
    }
   ],
   "source": [
    "# Initializing OctalCounter of 4 bits with clock\n",
    "oc = Counter::Octal.new(clk_conn)"
   ]
  },
  {
   "cell_type": "code",
   "execution_count": 57,
   "metadata": {},
   "outputs": [
    {
     "name": "stdout",
     "output_type": "stream",
     "text": [
      "\u001b[0m\u001b[0m"
     ]
    }
   ],
   "source": [
    "# Initializing the Oscillioscope\n",
    "o = Oscilloscope.new([clk_conn, 'CLK'], [oc.out[0], 'BIT3'], [oc.out[1], 'BIT2'], \n",
    "  [oc.out[2], 'BIT1'], [oc.out[3], 'BIT0'], [enable, 'EN1'])\n",
    "o.start()\n",
    "o.set_width(100)\n",
    "o.set_scale(0.05)  # Set scale by trial and error.\n",
    "o.unhold()"
   ]
  },
  {
   "cell_type": "code",
   "execution_count": 58,
   "metadata": {},
   "outputs": [
    {
     "name": "stdout",
     "output_type": "stream",
     "text": [
      "[0, 0, 0, 0]\n"
     ]
    }
   ],
   "source": [
    "# Initial State\n",
    "puts(oc.state())"
   ]
  },
  {
   "cell_type": "code",
   "execution_count": 59,
   "metadata": {},
   "outputs": [
    {
     "name": "stdout",
     "output_type": "stream",
     "text": [
      "[0, 0, 0, 1]\n",
      "[0, 0, 1, 0]\n",
      "[0, 0, 1, 1]\n",
      "[0, 1, 0, 0]\n",
      "[0, 1, 0, 1]\n",
      "[0, 1, 1, 0]\n",
      "[0, 1, 1, 1]\n",
      "[0, 0, 0, 0]\n",
      "[0, 0, 0, 1]\n",
      "[0, 0, 1, 0]\n",
      "[0, 0, 1, 1]\n",
      "[0, 1, 0, 0]\n",
      "[0, 1, 0, 1]\n",
      "[0, 1, 1, 0]\n",
      "[0, 1, 1, 1]\n",
      "[0, 0, 0, 0]\n",
      "[0, 0, 0, 1]\n",
      "[0, 0, 1, 0]\n"
     ]
    },
    {
     "data": {
      "text/plain": [
       "1..18"
      ]
     },
     "execution_count": 59,
     "metadata": {},
     "output_type": "execute_result"
    }
   ],
   "source": [
    "# Triggering the counter sequentially 2^4 + 2 times\n",
    "(1..2 ** 4 + 2).each do\n",
    "    oc.trigger()\n",
    "    puts(oc.state())\n",
    "end"
   ]
  },
  {
   "cell_type": "code",
   "execution_count": 63,
   "metadata": {},
   "outputs": [
    {
     "name": "stdout",
     "output_type": "stream",
     "text": [
      "[0, 0, 1, 0]\n",
      "\u001b[0m===================================================================================================================\n",
      "Oscilloscope\n",
      "===================================================================================================================\n",
      "                                                                               SCALE - X-AXIS : 1 UNIT WIDTH = 0.05\n",
      "===================================================================================================================\n",
      "          │\n",
      "          │\n",
      "          │    ┌───┐   ┌───┐   ┌───┐   ┌───┐   ┌───┐   ┌───┐   ┌──┐   ┌───┐   ┌───┐   ┌───┐   ┌───┐  ┌───┐   ┌──┐                                                 \n",
      "     CLK  │    │   │   │   │   │   │   │   │   │   │   │   │   │  │   │   │   │   │   │   │   │   │  │   │   │  │                                                 \n",
      "          ─ ───┘   └───┘   └───┘   └───┘   └───┘   └───┘   └───┘  └───┘   └───┘   └───┘   └───┘   └──┘   └───┘  └─────────────────────────────────────────────────\n",
      "          │\n",
      "          │\n",
      "          │\n",
      "          │\n",
      "          │ ┌───────────────────────────────────────────────────────────────────────────────────────────────────┐                                                 \n",
      "    BIT3  │ │                                                                                                   │                                                 \n",
      "          ─ ┘                                                                                                   └─────────────────────────────────────────────────\n",
      "          │\n",
      "          │\n",
      "          │\n",
      "          │\n",
      "          │                                                                                                                                                       \n",
      "    BIT2  │                                                                                                                                                       \n",
      "          ─ ──────────────────────────────────────────────────────────────────────────────────────────────────────────────────────────────────────────────────────\n",
      "          │\n",
      "          │\n",
      "          │\n",
      "          │\n",
      "          │                                                                                                                                                       \n",
      "    BIT1  │                                                                                                                                                       \n",
      "          ─ ──────────────────────────────────────────────────────────────────────────────────────────────────────────────────────────────────────────────────────\n",
      "          │\n",
      "          │\n",
      "          │\n",
      "          │\n",
      "          │                                                                                                                                                       \n",
      "    BIT0  │                                                                                                                                                       \n",
      "          ─ ──────────────────────────────────────────────────────────────────────────────────────────────────────────────────────────────────────────────────────\n",
      "          │\n",
      "          │\n",
      "          │\n",
      "          │\n",
      "          │ ┌───────────────────────────────────────────────────────────────────────────────────────────────────┐                                                 \n",
      "     EN1  │ │                                                                                                   │                                                 \n",
      "          ─ ┘                                                                                                   └─────────────────────────────────────────────────\n",
      "          │\n",
      "          │\n",
      "│││││││││││││││││││││││││││││││││││││││││││││││││││││││││││││││││││││││││││││││││││││││││││││││││││││││││││││││││││\n",
      "───────────────────────────────────────────────────────────────────────────────────────────────────────────────────\n",
      "\u001b[0m"
     ]
    }
   ],
   "source": [
    "# Display the oscilloscope\n",
    "o.display()"
   ]
  },
  {
   "cell_type": "code",
   "execution_count": 64,
   "metadata": {},
   "outputs": [
    {
     "name": "stdout",
     "output_type": "stream",
     "text": [
      "[1, 1, 1, 1]\n"
     ]
    }
   ],
   "source": [
    "# Setting the counter\n",
    "oc.set_counter()\n",
    "puts(oc.state())"
   ]
  },
  {
   "cell_type": "code",
   "execution_count": 66,
   "metadata": {},
   "outputs": [
    {
     "name": "stdout",
     "output_type": "stream",
     "text": [
      "[0, 0, 0, 0]\n"
     ]
    }
   ],
   "source": [
    "# Resetting the counter\n",
    "oc.reset_counter()\n",
    "puts(oc.state())"
   ]
  },
  {
   "cell_type": "code",
   "execution_count": 67,
   "metadata": {},
   "outputs": [],
   "source": [
    "# Kill the clock and the oscilloscope after use to avoid overloading \n",
    "o.kill\n",
    "clock.kill"
   ]
  }
 ],
 "metadata": {
  "kernelspec": {
   "display_name": "Ruby 2.3.3",
   "language": "ruby",
   "name": "ruby"
  },
  "language_info": {
   "file_extension": ".rb",
   "mimetype": "application/x-ruby",
   "name": "ruby",
   "version": "2.3.3"
  }
 },
 "nbformat": 4,
 "nbformat_minor": 2
}
