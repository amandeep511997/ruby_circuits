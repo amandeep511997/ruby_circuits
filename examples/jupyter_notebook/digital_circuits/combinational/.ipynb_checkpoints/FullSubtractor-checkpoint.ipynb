{
 "cells": [
  {
   "cell_type": "markdown",
   "metadata": {},
   "source": [
    "# Combinational Circuits | Full Subtractor"
   ]
  },
  {
   "cell_type": "markdown",
   "metadata": {},
   "source": [
    "All Combinational circuit components are in the module **Combinational**. All methods available can be found in the documentation."
   ]
  },
  {
   "cell_type": "code",
   "execution_count": 1,
   "metadata": {},
   "outputs": [
    {
     "data": {
      "text/plain": [
       "true"
      ]
     },
     "execution_count": 1,
     "metadata": {},
     "output_type": "execute_result"
    }
   ],
   "source": [
    "# load gemfile ruby_circuits.rb\n",
    "require '../../../../lib/ruby_ciruits'"
   ]
  },
  {
   "cell_type": "code",
   "execution_count": 2,
   "metadata": {},
   "outputs": [
    {
     "data": {
      "text/plain": [
       "[]"
      ]
     },
     "execution_count": 2,
     "metadata": {},
     "output_type": "execute_result"
    }
   ],
   "source": [
    "# Creating a Full Subtractor instance - using connectors\n",
    "a = Connector.new(0)\n",
    "b = Connector.new(1)\n",
    "borrow_in = Connector.new(1)\n",
    "difference = Connector.new\n",
    "borrow_out = Connector.new\n",
    "\n",
    "fs = Combinational::FullSubtractor.new(a, b, borrow_in)\n",
    "\n",
    "# Connecting outputs to the connector - [borrow, difference]\n",
    "fs.set_output(0, borrow_out)\n",
    "fs.set_output(1, difference)"
   ]
  },
  {
   "cell_type": "code",
   "execution_count": 3,
   "metadata": {},
   "outputs": [
    {
     "name": "stdout",
     "output_type": "stream",
     "text": [
      "1\n",
      "0\n"
     ]
    }
   ],
   "source": [
    "puts(borrow_out.get_logic(), difference.get_logic())"
   ]
  }
 ],
 "metadata": {
  "kernelspec": {
   "display_name": "Ruby 2.3.3",
   "language": "ruby",
   "name": "ruby"
  },
  "language_info": {
   "file_extension": ".rb",
   "mimetype": "application/x-ruby",
   "name": "ruby",
   "version": "2.3.3"
  }
 },
 "nbformat": 4,
 "nbformat_minor": 2
}
