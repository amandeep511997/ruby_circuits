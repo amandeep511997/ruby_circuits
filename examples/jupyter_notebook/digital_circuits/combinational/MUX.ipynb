{
 "cells": [
  {
   "cell_type": "markdown",
   "metadata": {},
   "source": [
    "# Combinational Circuits | Multiplexer(MUX)"
   ]
  },
  {
   "cell_type": "markdown",
   "metadata": {},
   "source": [
    "All Combinational circuit components are in the module **Combinational**. All methods available can be found in the documentation."
   ]
  },
  {
   "cell_type": "code",
   "execution_count": 1,
   "metadata": {},
   "outputs": [
    {
     "data": {
      "text/plain": [
       "true"
      ]
     },
     "execution_count": 1,
     "metadata": {},
     "output_type": "execute_result"
    }
   ],
   "source": [
    "# load gemfile ruby_circuits.rb\n",
    "require '../../../../lib/ruby_ciruits'"
   ]
  },
  {
   "cell_type": "code",
   "execution_count": 4,
   "metadata": {},
   "outputs": [
    {
     "name": "stdout",
     "output_type": "stream",
     "text": [
      "0"
     ]
    }
   ],
   "source": [
    "# Creating a MUX instance\n",
    "mux = Combinational::MUX.new(0, 1)\n",
    "\n",
    "# Add select lines - 2^n\n",
    "mux.select_lines(0)\n",
    "\n",
    "# output of the mux\n",
    "print(mux.output())"
   ]
  },
  {
   "cell_type": "code",
   "execution_count": 5,
   "metadata": {},
   "outputs": [
    {
     "name": "stdout",
     "output_type": "stream",
     "text": [
      "0"
     ]
    }
   ],
   "source": [
    "# Changing input at a specific index - At index 1 to value 0\n",
    "mux.set_input(1, 0)\n",
    "\n",
    "# New output of the mux\n",
    "print(mux.output())"
   ]
  },
  {
   "cell_type": "code",
   "execution_count": 8,
   "metadata": {},
   "outputs": [
    {
     "name": "stdout",
     "output_type": "stream",
     "text": [
      "1"
     ]
    }
   ],
   "source": [
    "# Changing the number of inputs - input must always be a power of 2\n",
    "mux.set_inputs(1, 0, 0, 1)\n",
    "\n",
    "# New output of the multiplexer\n",
    "print(mux.output())"
   ]
  },
  {
   "cell_type": "code",
   "execution_count": 9,
   "metadata": {},
   "outputs": [
    {
     "name": "stdout",
     "output_type": "stream",
     "text": [
      "0"
     ]
    }
   ],
   "source": [
    "# Creating a connector instance\n",
    "conn = Connector.new\n",
    "\n",
    "# setting the output of the mux to the connector\n",
    "mux.set_output(conn)\n",
    "\n",
    "# Passing the connector as an input to a gate\n",
    "gate = LogicGates::AND.new(conn, 0)\n",
    "\n",
    "# Output of the gate\n",
    "print(gate.output())"
   ]
  },
  {
   "cell_type": "code",
   "execution_count": 10,
   "metadata": {},
   "outputs": [
    {
     "name": "stdout",
     "output_type": "stream",
     "text": [
      "0"
     ]
    }
   ],
   "source": [
    "# changing the select lines - selecting input line 2\n",
    "# Note : Input lines have 0 based indexing\n",
    "mux.select_line(0, 1)\n",
    "\n",
    "# New output of the MUX \n",
    "print(mux.output())"
   ]
  },
  {
   "cell_type": "code",
   "execution_count": 11,
   "metadata": {},
   "outputs": [
    {
     "name": "stdout",
     "output_type": "stream",
     "text": [
      "MUX"
     ]
    }
   ],
   "source": [
    "# Information about the instance\n",
    "print(mux)"
   ]
  }
 ],
 "metadata": {
  "kernelspec": {
   "display_name": "Ruby 2.3.3",
   "language": "ruby",
   "name": "ruby"
  },
  "language_info": {
   "file_extension": ".rb",
   "mimetype": "application/x-ruby",
   "name": "ruby",
   "version": "2.3.3"
  }
 },
 "nbformat": 4,
 "nbformat_minor": 2
}
