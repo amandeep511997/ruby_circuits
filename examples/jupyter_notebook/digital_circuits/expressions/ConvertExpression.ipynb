{
 "cells": [
  {
   "cell_type": "markdown",
   "metadata": {},
   "source": [
    "# Logical Expressions Helpers | Convert Expression"
   ]
  },
  {
   "cell_type": "markdown",
   "metadata": {},
   "source": [
    "Convert expression can be used to convert a logical expression in various forms, interchangeably."
   ]
  },
  {
   "cell_type": "code",
   "execution_count": 1,
   "metadata": {},
   "outputs": [
    {
     "data": {
      "text/plain": [
       "true"
      ]
     },
     "execution_count": 1,
     "metadata": {},
     "output_type": "execute_result"
    }
   ],
   "source": [
    "# load gemfile ruby_circuits.rb\n",
    "require '../../../../lib/ruby_ciruits'"
   ]
  },
  {
   "cell_type": "code",
   "execution_count": 2,
   "metadata": {},
   "outputs": [
    {
     "data": {
      "text/plain": [
       "\"~(((A^B)|(~a^b^C))) ~^ c\""
      ]
     },
     "execution_count": 2,
     "metadata": {},
     "output_type": "execute_result"
    }
   ],
   "source": [
    "# Given Expression:\n",
    "expr = '~(((A^B)|(~a^b^C))) ~^ c'"
   ]
  },
  {
   "cell_type": "code",
   "execution_count": 3,
   "metadata": {},
   "outputs": [
    {
     "name": "stdout",
     "output_type": "stream",
     "text": [
      "[\"~\", \"A^B\", \")\", \"|\", \"~a^b^C\", \")\", \")\", \")\", \"~^\", \"c\"]\n"
     ]
    }
   ],
   "source": [
    "# Obtained Expression\n",
    "converted = create_list(expr)\n",
    "\n",
    "puts(converted)"
   ]
  },
  {
   "cell_type": "code",
   "execution_count": 4,
   "metadata": {},
   "outputs": [
    {
     "name": "stdout",
     "output_type": "stream",
     "text": [
      "OR(XNOR(A, B), XNOR(a, b, C, c))\n"
     ]
    }
   ],
   "source": [
    "# Obtained Expression\n",
    "converted = convert_expression(expr)\n",
    "\n",
    "puts(converted)"
   ]
  },
  {
   "cell_type": "code",
   "execution_count": 5,
   "metadata": {},
   "outputs": [
    {
     "data": {
      "text/plain": [
       "\"((A AND B)xor(NOT(B) and C) xor(C and NOT(D)))or   E or NOT(F)\""
      ]
     },
     "execution_count": 5,
     "metadata": {},
     "output_type": "execute_result"
    }
   ],
   "source": [
    "# Given Expression:\n",
    "expr = '((A AND B)xor(NOT(B) and C) xor(C and NOT(D)))or   E or NOT(F)'"
   ]
  },
  {
   "cell_type": "code",
   "execution_count": 6,
   "metadata": {},
   "outputs": [
    {
     "name": "stdout",
     "output_type": "stream",
     "text": [
      "OR(XOR(AND(A, B), AND(NOT(B), C), AND(C, NOT(D))), E, NOT(F))\n"
     ]
    }
   ],
   "source": [
    "# Obtained Expression\n",
    "converted = convert_expression(expr)\n",
    "\n",
    "puts(converted)"
   ]
  },
  {
   "cell_type": "code",
   "execution_count": 7,
   "metadata": {},
   "outputs": [
    {
     "name": "stdout",
     "output_type": "stream",
     "text": [
      "OR(XOR(XOR(AND(A, B), AND(NOT(B), C)), AND(C, NOT(D))), OR(E, NOT(F)))\n"
     ]
    }
   ],
   "source": [
    "# Obtained Expression with two input gate contraint\n",
    "converted2 = convert_expression(expr, two_input = 1)\n",
    "\n",
    "puts(converted2)"
   ]
  },
  {
   "cell_type": "code",
   "execution_count": 8,
   "metadata": {},
   "outputs": [
    {
     "data": {
      "text/plain": [
       "\"(A XOR B XOR C)\""
      ]
     },
     "execution_count": 8,
     "metadata": {},
     "output_type": "execute_result"
    }
   ],
   "source": [
    "# Given Expression:\n",
    "expr = '(A XOR B XOR C)'"
   ]
  },
  {
   "cell_type": "code",
   "execution_count": 9,
   "metadata": {},
   "outputs": [
    {
     "name": "stdout",
     "output_type": "stream",
     "text": [
      "XOR(A, B, C)\n"
     ]
    }
   ],
   "source": [
    "# Obtained Expression\n",
    "converted = convert_expression(expr)\n",
    "\n",
    "puts(converted)"
   ]
  },
  {
   "cell_type": "code",
   "execution_count": 10,
   "metadata": {},
   "outputs": [
    {
     "name": "stdout",
     "output_type": "stream",
     "text": [
      "XOR(A, XOR(B, C))\n"
     ]
    }
   ],
   "source": [
    "# Obtained Expression with two input gate contraint\n",
    "converted2 = convert_expression(expr, two_input = 1)\n",
    "\n",
    "puts(converted2)"
   ]
  },
  {
   "cell_type": "code",
   "execution_count": 11,
   "metadata": {},
   "outputs": [
    {
     "name": "stdout",
     "output_type": "stream",
     "text": [
      "OR(AND(A, NOR(AND(B, NOT(C)), AND(NOT(B), C))), AND(NOT(A), OR(AND(B, NOT(C)), AND(NOT(B), C))))\n"
     ]
    }
   ],
   "source": [
    "# Function definition of -\n",
    "# convert_expression(expr, two_input=0, only_nand=0, only_nor=0, only_and_or_not=0)\n",
    "\n",
    "# Equivalent Expression with only AND, OR & NOT gates\n",
    "expr = '(A XOR B XOR C)'\n",
    "converted3 = convert_expression(expr, 0, 0, 0, 1)\n",
    "puts(converted3)"
   ]
  },
  {
   "cell_type": "code",
   "execution_count": 12,
   "metadata": {},
   "outputs": [
    {
     "data": {
      "text/plain": [
       "\"A XOR B\""
      ]
     },
     "execution_count": 12,
     "metadata": {},
     "output_type": "execute_result"
    }
   ],
   "source": [
    "# Given Expression\n",
    "expr = 'A XOR B'"
   ]
  },
  {
   "cell_type": "code",
   "execution_count": 13,
   "metadata": {},
   "outputs": [
    {
     "name": "stdout",
     "output_type": "stream",
     "text": [
      "NAND(NAND(A, NAND(A, B)), NAND(B, NAND(A, B)))\n"
     ]
    }
   ],
   "source": [
    "# Equivalent Expression with only NAND gates\n",
    "converted = convert_expression(expr, 0, 1, 0, 0)\n",
    "\n",
    "puts(converted)"
   ]
  },
  {
   "cell_type": "code",
   "execution_count": 14,
   "metadata": {},
   "outputs": [
    {
     "name": "stdout",
     "output_type": "stream",
     "text": [
      "NOR(NOR(NOR(A, NOR(A, B)), NOR(B, NOR(A, B)))), NOR(NOR(A, NOR(A, B)), NOR(B, NOR(A, B)))))\n"
     ]
    }
   ],
   "source": [
    "# Equivalent Expression with only NOR gates\n",
    "converted = convert_expression(expr, 0, 0, 1, 0)\n",
    "\n",
    "puts(converted)"
   ]
  }
 ],
 "metadata": {
  "kernelspec": {
   "display_name": "Ruby 2.3.3",
   "language": "ruby",
   "name": "ruby"
  },
  "language_info": {
   "file_extension": ".rb",
   "mimetype": "application/x-ruby",
   "name": "ruby",
   "version": "2.3.3"
  }
 },
 "nbformat": 4,
 "nbformat_minor": 2
}
