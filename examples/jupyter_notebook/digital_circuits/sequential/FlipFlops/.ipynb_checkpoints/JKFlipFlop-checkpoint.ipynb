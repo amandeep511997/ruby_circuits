{
 "cells": [
  {
   "cell_type": "markdown",
   "metadata": {},
   "source": [
    "# Sequential Circuits | JKFlipFlop  "
   ]
  },
  {
   "cell_type": "markdown",
   "metadata": {},
   "source": [
    "All Flip Flops are in the module **FlipFlop**. All methods available can be found in the documentation."
   ]
  },
  {
   "cell_type": "code",
   "execution_count": 1,
   "metadata": {},
   "outputs": [
    {
     "data": {
      "text/plain": [
       "true"
      ]
     },
     "execution_count": 1,
     "metadata": {},
     "output_type": "execute_result"
    }
   ],
   "source": [
    "# load gemfile ruby_circuits.rb\n",
    "require '../../../../../lib/ruby_ciruits'"
   ]
  },
  {
   "cell_type": "code",
   "execution_count": 2,
   "metadata": {},
   "outputs": [
    {
     "data": {
      "text/plain": [
       "1"
      ]
     },
     "execution_count": 2,
     "metadata": {},
     "output_type": "execute_result"
    }
   ],
   "source": [
    "# Creating connectors for the inputs of the Flip Flop\n",
    "j = Connector.new(1)\n",
    "k = Connector.new(0)\n",
    "\n",
    "# Creating connectors for the outputs of the Flip Flop\n",
    "p = Connector.new(0)\n",
    "q = Connector.new(1)"
   ]
  },
  {
   "cell_type": "code",
   "execution_count": 12,
   "metadata": {},
   "outputs": [
    {
     "data": {
      "text/plain": [
       "1"
      ]
     },
     "execution_count": 12,
     "metadata": {},
     "output_type": "execute_result"
    }
   ],
   "source": [
    "# Create a clock instance\n",
    "clock = Clock.new(1, 4)\n",
    "clock.start()\n",
    "\n",
    "# A clock of 4 hertz frequency\n",
    "clk_conn = clock.clock_connector\n",
    "\n",
    "# Create a new connector of enable\n",
    "enable = Connector.new(1)"
   ]
  },
  {
   "cell_type": "code",
   "execution_count": 4,
   "metadata": {},
   "outputs": [
    {
     "data": {
      "text/plain": [
       "[#<FlipFlop::JK:0x00555ee85c7938 @A=0, @B=1, @clk=1, @clk_old_value=1, @enable=1, @J=1, @K=0, @preset=1, @clear=1>]"
      ]
     },
     "execution_count": 4,
     "metadata": {},
     "output_type": "execute_result"
    }
   ],
   "source": [
    "# Create a JK Flip Flop instance\n",
    "jkff = FlipFlop::JK.new(j, k, enable, clk_conn, Connector.new(1), enable)\n",
    "\n",
    "# Setting the output of the Flip Flop instance\n",
    "jkff.set_outputs({\"A\" => p, \"B\" => q})"
   ]
  },
  {
   "cell_type": "code",
   "execution_count": 5,
   "metadata": {},
   "outputs": [
    {
     "name": "stdout",
     "output_type": "stream",
     "text": [
      "\u001b[0m\u001b[0m"
     ]
    }
   ],
   "source": [
    "# Create an oscilloscope instance\n",
    "o = Oscilloscope.new([clk_conn, 'CLK'], [j, 'J'], [k, 'K'], \n",
    "  [p, 'OUT'], [q, 'OUT!'], [enable, 'ENABLE'])\n",
    "o.start()\n",
    "o.set_scale(0.02)  # Setting scale by trial and error.\n",
    "o.set_width(100)\n",
    "o.unhold()"
   ]
  },
  {
   "cell_type": "code",
   "execution_count": 6,
   "metadata": {},
   "outputs": [
    {
     "name": "stdout",
     "output_type": "stream",
     "text": [
      "SET STATE - J = 1, K = 0\n",
      "[1, 0]\n"
     ]
    }
   ],
   "source": [
    "puts(\"SET STATE - J = 1, K = 0\")\n",
    "\n",
    "# Set State - this can also be done by using jkff.set_inputs({\"J\" => 1, \"K\" => 0})\n",
    "j.state = 1\n",
    "k.state = 0\n",
    "\n",
    "while true\n",
    "    if clk_conn.state == 0\n",
    "        # Falling edge will trigger the FF\n",
    "        jkff.trigger()\n",
    "        break\n",
    "    end\n",
    "end\n",
    "\n",
    "puts(jkff.state())\n",
    "\n",
    "# Sending a positive edge to jkff\n",
    "while true\n",
    "    if clk_conn.state == 1\n",
    "        # Rising edge will trigger the FF\n",
    "        jkff.trigger()\n",
    "        break\n",
    "    end\n",
    "end"
   ]
  },
  {
   "cell_type": "code",
   "execution_count": 7,
   "metadata": {},
   "outputs": [
    {
     "name": "stdout",
     "output_type": "stream",
     "text": [
      "RESET STATE - J = 0, K = 1\n",
      "[0, 1]\n"
     ]
    }
   ],
   "source": [
    "puts(\"RESET STATE - J = 0, K = 1\")\n",
    "\n",
    "# Reset State - this can also be done by using jkff.set_inputs({\"J\" => 0, \"K\" => 1})\n",
    "j.state = 0\n",
    "k.state = 1\n",
    "\n",
    "while true\n",
    "    if clk_conn.state == 0\n",
    "        # Falling edge will trigger the FF\n",
    "        jkff.trigger()\n",
    "        break\n",
    "    end\n",
    "end\n",
    "        \n",
    "puts(jkff.state())\n",
    "\n",
    "# Sending a positive edge to jkff\n",
    "while true\n",
    "    if clk_conn.state == 1\n",
    "        # Rising edge will trigger the FF\n",
    "        jkff.trigger()\n",
    "        break\n",
    "    end\n",
    "end"
   ]
  },
  {
   "cell_type": "code",
   "execution_count": 8,
   "metadata": {},
   "outputs": [
    {
     "name": "stdout",
     "output_type": "stream",
     "text": [
      "TOGGLE STATE - J = 1, K = 1\n",
      "[1, 0]"
     ]
    }
   ],
   "source": [
    "puts(\"TOGGLE STATE - J = 1, K = 1\")\n",
    "\n",
    "# Toggle State - this can also be done by using jkff.set_inputs({\"J\" => 1, \"K\" => 1})\n",
    "j.state = 1\n",
    "k.state = 1\n",
    "\n",
    "while true\n",
    "    if clk_conn.state == 0\n",
    "        # Falling edge will trigger the FF\n",
    "        jkff.trigger()\n",
    "        break\n",
    "    end\n",
    "end\n",
    "\n",
    "print (jkff.state())\n",
    "\n",
    "# Sending a positive edge to jkff\n",
    "while true\n",
    "    if clk_conn.state == 1\n",
    "        # Rising edge will trigger the FF\n",
    "        jkff.trigger()\n",
    "        break\n",
    "    end\n",
    "end"
   ]
  },
  {
   "cell_type": "code",
   "execution_count": 9,
   "metadata": {},
   "outputs": [
    {
     "name": "stdout",
     "output_type": "stream",
     "text": [
      "NO CHANGE STATE - J = 0, K = 0\n",
      "[1, 0]\n"
     ]
    }
   ],
   "source": [
    "puts(\"NO CHANGE STATE - J = 0, K = 0\")\n",
    "\n",
    "# No change state - this can also be done by using jkff.set_inputs({\"J\" => 0, \"K\" => 0})\n",
    "j.state = 0\n",
    "k.state = 0\n",
    "\n",
    "while true\n",
    "    if clk_conn.state == 0\n",
    "        # Falling edge will trigger the FF\n",
    "        jkff.trigger()\n",
    "        break\n",
    "    end\n",
    "end\n",
    "\n",
    "puts(jkff.state())\n",
    "\n",
    "# Sending a positive edge to jkff\n",
    "while true\n",
    "    if clk_conn.state == 1\n",
    "        # Rising edge will trigger the FF\n",
    "        jkff.trigger()\n",
    "        break\n",
    "    end\n",
    "end"
   ]
  },
  {
   "cell_type": "code",
   "execution_count": 10,
   "metadata": {},
   "outputs": [
    {
     "name": "stdout",
     "output_type": "stream",
     "text": [
      "\u001b[0m===================================================================================================================\n",
      "Oscilloscope\n",
      "===================================================================================================================\n",
      "                                                                               SCALE - X-AXIS : 1 UNIT WIDTH = 0.02\n",
      "===================================================================================================================\n",
      "          │\n",
      "          │\n",
      "          │     ┌────┐    ┌────┐    ┌────┐    ┌────┐    ┌───┐    ┌────┐    ┌────┐    ┌────┐    ┌────┐    ┌────┐                                                   \n",
      "     CLK  │     │    │    │    │    │    │    │    │    │   │    │    │    │    │    │    │    │    │    │    │                                                   \n",
      "          ─ ────┘    └────┘    └────┘    └────┘    └────┘   └────┘    └────┘    └────┘    └────┘    └────┘    └───────────────────────────────────────────────────\n",
      "          │\n",
      "          │\n",
      "          │\n",
      "          │\n",
      "          │                                                                                                                                                       \n",
      "       J  │                                                                                                                                                       \n",
      "          ─ ──────────────────────────────────────────────────────────────────────────────────────────────────────────────────────────────────────────────────────\n",
      "          │\n",
      "          │\n",
      "          │\n",
      "          │\n",
      "          │                                                                                                                                                       \n",
      "       K  │                                                                                                                                                       \n",
      "          ─ ──────────────────────────────────────────────────────────────────────────────────────────────────────────────────────────────────────────────────────\n",
      "          │\n",
      "          │\n",
      "          │\n",
      "          │\n",
      "          │ ┌───────────────────────────────────────────────────────────────────────────────────────────────────┐                                                 \n",
      "     OUT  │ │                                                                                                   │                                                 \n",
      "          ─ ┘                                                                                                   └─────────────────────────────────────────────────\n",
      "          │\n",
      "          │\n",
      "          │\n",
      "          │\n",
      "          │                                                                                                                                                       \n",
      "    OUT!  │                                                                                                                                                       \n",
      "          ─ ──────────────────────────────────────────────────────────────────────────────────────────────────────────────────────────────────────────────────────\n",
      "          │\n",
      "          │\n",
      "          │\n",
      "          │\n",
      "          │ ┌───────────────────────────────────────────────────────────────────────────────────────────────────┐                                                 \n",
      "   ENABL  │ │                                                                                                   │                                                 \n",
      "          ─ ┘                                                                                                   └─────────────────────────────────────────────────\n",
      "          │\n",
      "          │\n",
      "│││││││││││││││││││││││││││││││││││││││││││││││││││││││││││││││││││││││││││││││││││││││││││││││││││││││││││││││││││\n",
      "───────────────────────────────────────────────────────────────────────────────────────────────────────────────────\n",
      "\u001b[0m\u001b[0m"
     ]
    },
    {
     "data": {
      "text/plain": [
       "20"
      ]
     },
     "execution_count": 10,
     "metadata": {},
     "output_type": "execute_result"
    }
   ],
   "source": [
    "# Display the oscilloscope     \n",
    "20.times do |i|\n",
    "  if i == 15 \n",
    "    o.display()\n",
    "    o.unhold()\n",
    "  end\n",
    "  sleep 0.25\n",
    "end"
   ]
  },
  {
   "cell_type": "code",
   "execution_count": 11,
   "metadata": {},
   "outputs": [],
   "source": [
    "# Kill the clock and the oscilloscope after use to avoid overloading \n",
    "o.kill\n",
    "clock.kill"
   ]
  }
 ],
 "metadata": {
  "kernelspec": {
   "display_name": "Ruby 2.3.3",
   "language": "ruby",
   "name": "ruby"
  },
  "language_info": {
   "file_extension": ".rb",
   "mimetype": "application/x-ruby",
   "name": "ruby",
   "version": "2.3.3"
  }
 },
 "nbformat": 4,
 "nbformat_minor": 2
}
