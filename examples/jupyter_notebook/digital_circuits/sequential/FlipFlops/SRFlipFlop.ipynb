{
 "cells": [
  {
   "cell_type": "markdown",
   "metadata": {},
   "source": [
    "# Sequential Circuits | SRFlipFlop  "
   ]
  },
  {
   "cell_type": "markdown",
   "metadata": {},
   "source": [
    "All Flip Flops are in the module **FlipFlop**. All methods available can be found in the documentation."
   ]
  },
  {
   "cell_type": "code",
   "execution_count": 3,
   "metadata": {},
   "outputs": [
    {
     "data": {
      "text/plain": [
       "true"
      ]
     },
     "execution_count": 3,
     "metadata": {},
     "output_type": "execute_result"
    }
   ],
   "source": [
    "# load gemfile ruby_circuits.rb\n",
    "require '../../../../../lib/ruby_ciruits'"
   ]
  },
  {
   "cell_type": "code",
   "execution_count": 20,
   "metadata": {},
   "outputs": [
    {
     "data": {
      "text/plain": [
       "1"
      ]
     },
     "execution_count": 20,
     "metadata": {},
     "output_type": "execute_result"
    }
   ],
   "source": [
    "# Creating connectors for the inputs of the Flip Flop\n",
    "s = Connector.new(1)\n",
    "r = Connector.new(0)\n",
    "\n",
    "# Creating connectors for the outputs of the Flip Flop\n",
    "p = Connector.new(0)\n",
    "q = Connector.new(1)"
   ]
  },
  {
   "cell_type": "code",
   "execution_count": 21,
   "metadata": {},
   "outputs": [
    {
     "data": {
      "text/plain": [
       "1"
      ]
     },
     "execution_count": 21,
     "metadata": {},
     "output_type": "execute_result"
    }
   ],
   "source": [
    "# Create a clock instance\n",
    "clock = Clock.new(1, 4)\n",
    "clock.start()\n",
    "\n",
    "# A clock of 1 hertz frequency\n",
    "clk_conn = clock.clock_connector\n",
    "\n",
    "# Create a new connector of enable\n",
    "enable = Connector.new(1)"
   ]
  },
  {
   "cell_type": "code",
   "execution_count": 22,
   "metadata": {},
   "outputs": [],
   "source": [
    "# Create a SRLatch instance\n",
    "srff = FlipFlop::SRLatch.new(s, r, enable, clk_conn)\n",
    "\n",
    "# Setting the output of the Flip Flop instance\n",
    "srff.set_outputs({\"A\" => p, \"B\" => q})"
   ]
  },
  {
   "cell_type": "code",
   "execution_count": 23,
   "metadata": {},
   "outputs": [
    {
     "name": "stdout",
     "output_type": "stream",
     "text": [
      "\u001b[0m\u001b[0m"
     ]
    }
   ],
   "source": [
    "# Create an oscilloscope instance\n",
    "o = Oscilloscope.new([clk_conn, 'CLK'], [s, 'S'], [r, 'R'], \n",
    "  [p, 'OUT'], [q, 'OUT!'], [enable, 'ENABLE'])\n",
    "o.start()\n",
    "o.set_scale(0.015)  # Setting scale by trial and error.\n",
    "o.set_width(100)\n",
    "o.unhold()"
   ]
  },
  {
   "cell_type": "code",
   "execution_count": 24,
   "metadata": {},
   "outputs": [
    {
     "name": "stdout",
     "output_type": "stream",
     "text": [
      "SET STATE - S = 1, R = 0\n",
      "[1, 0]\n"
     ]
    }
   ],
   "source": [
    "puts(\"SET STATE - S = 1, R = 0\")\n",
    "\n",
    "# Set State - this can also be done by using srff.set_inputs({\"S\" => 1, \"R\" => 0})\n",
    "s.state = 1\n",
    "r.state = 0\n",
    "\n",
    "while true\n",
    "    if clk_conn.state == 0\n",
    "        # Falling edge will trigger the FF\n",
    "        srff.trigger()\n",
    "        break\n",
    "    end\n",
    "end\n",
    "\n",
    "puts(srff.state())\n",
    "\n",
    "# Sending a positive edge to srff\n",
    "while true\n",
    "    if clk_conn.state == 1\n",
    "        # Rising edge will trigger the FF\n",
    "        srff.trigger()\n",
    "        break\n",
    "    end\n",
    "end"
   ]
  },
  {
   "cell_type": "code",
   "execution_count": 25,
   "metadata": {},
   "outputs": [
    {
     "name": "stdout",
     "output_type": "stream",
     "text": [
      "RESET STATE - S = 0, R = 1\n",
      "[0, 1]\n"
     ]
    }
   ],
   "source": [
    "puts(\"RESET STATE - S = 0, R = 1\")\n",
    "\n",
    "# Reset State - this can also be done by using srff.set_inputs({\"S\" => 0, \"R\" => 1})\n",
    "s.state = 0\n",
    "r.state = 1\n",
    "\n",
    "while true\n",
    "    if clk_conn.state == 0\n",
    "        # Falling edge will trigger the FF\n",
    "        srff.trigger()\n",
    "        break\n",
    "    end\n",
    "end\n",
    "\n",
    "\n",
    "puts(srff.state())\n",
    "\n",
    "# Sending a positive edge to srff\n",
    "while true\n",
    "    if clk_conn.state == 1\n",
    "        # Rising edge will trigger the FF\n",
    "        srff.trigger()\n",
    "        break\n",
    "    end\n",
    "end"
   ]
  },
  {
   "cell_type": "code",
   "execution_count": 26,
   "metadata": {},
   "outputs": [
    {
     "name": "stdout",
     "output_type": "stream",
     "text": [
      "INVALID STATE - S = 1, R = 1\n",
      "invalid state, resetting[0, 1]\n"
     ]
    }
   ],
   "source": [
    "puts(\"INVALID STATE - S = 1, R = 1\")\n",
    "\n",
    "# Invalid state - this can also be done by using srff.set_inputs({\"S\" => 1, \"R\" => 1})\n",
    "s.state = 1\n",
    "r.state = 1\n",
    "\n",
    "while true\n",
    "    if clk_conn.state == 0\n",
    "        # Falling edge will trigger the FF\n",
    "        srff.trigger()\n",
    "        break\n",
    "    end\n",
    "end\n",
    "\n",
    "puts(srff.state())\n",
    "\n",
    "# Sending a positive edge to srff\n",
    "while true\n",
    "    if clk_conn.state == 1\n",
    "        # Rising edge will trigger the FF\n",
    "        srff.trigger()\n",
    "        break\n",
    "    end\n",
    "end"
   ]
  },
  {
   "cell_type": "code",
   "execution_count": 27,
   "metadata": {},
   "outputs": [
    {
     "name": "stdout",
     "output_type": "stream",
     "text": [
      "2nd INVALID STATE - S = 0, R = 0\n",
      "[0, 1]\n"
     ]
    }
   ],
   "source": [
    "puts(\"2nd INVALID STATE - S = 0, R = 0\")\n",
    "\n",
    "# Invalid state - this can also be done by using srff.set_inputs({\"S\" => 0, \"R\" => 0})\n",
    "s.state = 0\n",
    "r.state = 0\n",
    "\n",
    "while true\n",
    "    if clk_conn.state == 0\n",
    "        # Falling edge will trigger the FF\n",
    "        srff.trigger()\n",
    "        break\n",
    "    end\n",
    "end\n",
    "\n",
    "puts(srff.state())\n",
    "\n",
    "# Sending a positive edge to srff\n",
    "while true\n",
    "    if clk_conn.state == 1\n",
    "        # Rising edge will trigger the FF\n",
    "        srff.trigger()\n",
    "        break\n",
    "    end\n",
    "end"
   ]
  },
  {
   "cell_type": "code",
   "execution_count": 28,
   "metadata": {},
   "outputs": [
    {
     "name": "stdout",
     "output_type": "stream",
     "text": [
      "\u001b[0m===================================================================================================================\n",
      "Oscilloscope\n",
      "===================================================================================================================\n",
      "                                                                              SCALE - X-AXIS : 1 UNIT WIDTH = 0.015\n",
      "===================================================================================================================\n",
      "          │\n",
      "          │\n",
      "          │                                                                                                                                                       \n",
      "     CLK  │                                                                                                                                                       \n",
      "          ─ ──────────────────────────────────────────────────────────────────────────────────────────────────────────────────────────────────────────────────────\n",
      "          │\n",
      "          │\n",
      "          │\n",
      "          │\n",
      "          │                                                                                                                                                       \n",
      "       S  │                                                                                                                                                       \n",
      "          ─ ──────────────────────────────────────────────────────────────────────────────────────────────────────────────────────────────────────────────────────\n",
      "          │\n",
      "          │\n",
      "          │\n",
      "          │\n",
      "          │                                                                                                                                                       \n",
      "       R  │                                                                                                                                                       \n",
      "          ─ ──────────────────────────────────────────────────────────────────────────────────────────────────────────────────────────────────────────────────────\n",
      "          │\n",
      "          │\n",
      "          │\n",
      "          │\n",
      "          │                                                                                                                                                       \n",
      "     OUT  │                                                                                                                                                       \n",
      "          ─ ──────────────────────────────────────────────────────────────────────────────────────────────────────────────────────────────────────────────────────\n",
      "          │\n",
      "          │\n",
      "          │\n",
      "          │\n",
      "          │                                                                                                                                                       \n",
      "    OUT!  │                                                                                                                                                       \n",
      "          ─ ──────────────────────────────────────────────────────────────────────────────────────────────────────────────────────────────────────────────────────\n",
      "          │\n",
      "          │\n",
      "          │\n",
      "          │\n",
      "          │                                                                                                                                                       \n",
      "   ENABL  │                                                                                                                                                       \n",
      "          ─ ──────────────────────────────────────────────────────────────────────────────────────────────────────────────────────────────────────────────────────\n",
      "          │\n",
      "          │\n",
      "│││││││││││││││││││││││││││││││││││││││││││││││││││││││││││││││││││││││││││││││││││││││││││││││││││││││││││││││││││\n",
      "───────────────────────────────────────────────────────────────────────────────────────────────────────────────────\n",
      "\u001b[0m"
     ]
    }
   ],
   "source": [
    "# Display the oscilloscope     \n",
    "o.display()"
   ]
  },
  {
   "cell_type": "code",
   "execution_count": null,
   "metadata": {},
   "outputs": [],
   "source": []
  }
 ],
 "metadata": {
  "kernelspec": {
   "display_name": "Ruby 2.3.3",
   "language": "ruby",
   "name": "ruby"
  },
  "language_info": {
   "file_extension": ".rb",
   "mimetype": "application/x-ruby",
   "name": "ruby",
   "version": "2.3.3"
  }
 },
 "nbformat": 4,
 "nbformat_minor": 2
}
