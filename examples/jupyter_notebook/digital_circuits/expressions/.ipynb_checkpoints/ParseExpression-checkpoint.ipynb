{
 "cells": [
  {
   "cell_type": "markdown",
   "metadata": {},
   "source": [
    "# Logical Expressions Helpers | Parse Expressions"
   ]
  },
  {
   "cell_type": "markdown",
   "metadata": {},
   "source": [
    "All methods for expression parsing are present in class **ParseExpression**."
   ]
  },
  {
   "cell_type": "code",
   "execution_count": 2,
   "metadata": {},
   "outputs": [
    {
     "data": {
      "text/plain": [
       "true"
      ]
     },
     "execution_count": 2,
     "metadata": {},
     "output_type": "execute_result"
    }
   ],
   "source": [
    "# load gemfile ruby_circuits.rb\n",
    "require '../../../../lib/ruby_ciruits'"
   ]
  },
  {
   "cell_type": "code",
   "execution_count": 3,
   "metadata": {},
   "outputs": [
    {
     "name": "stdout",
     "output_type": "stream",
     "text": [
      "AND(OR(C, B), A)"
     ]
    }
   ],
   "source": [
    "# Initializing the Expr class\n",
    "expr = ParseExpression.new('A & B | C')\n",
    "\n",
    "# Parsing the expression\n",
    "puts(expr.parse())"
   ]
  },
  {
   "cell_type": "code",
   "execution_count": 5,
   "metadata": {},
   "outputs": [
    {
     "name": "stdout",
     "output_type": "stream",
     "text": [
      "AND(NOT(A), B)\n"
     ]
    }
   ],
   "source": [
    "# Alternate way of defining an expression \n",
    "# Input is of the format: Expr(expression, variables)\n",
    "\n",
    "expr1 = ParseExpression.new('AND(NOT(A), B)', 'A', 'B')\n",
    "\n",
    "puts(expr1.parse())"
   ]
  },
  {
   "cell_type": "code",
   "execution_count": 7,
   "metadata": {},
   "outputs": [
    {
     "name": "stdout",
     "output_type": "stream",
     "text": [
      "O0 "
     ]
    },
    {
     "ename": "NameError",
     "evalue": "uninitialized constant ParseExpression::C",
     "output_type": "error",
     "traceback": [
      "\u001b[31mNameError\u001b[0m: uninitialized constant ParseExpression::C",
      "\u001b[37m/home/amandeep/Codes/Development/RubyOnRails/ruby_circuits/lib/ruby_ciruits/digital_circuits/expressions/parse_expressions.rb:51:in `eval'\u001b[0m",
      "\u001b[37m/home/amandeep/Codes/Development/RubyOnRails/ruby_circuits/lib/ruby_ciruits/digital_circuits/expressions/parse_expressions.rb:51:in `eval'\u001b[0m",
      "\u001b[37m/home/amandeep/Codes/Development/RubyOnRails/ruby_circuits/lib/ruby_ciruits/digital_circuits/expressions/parse_expressions.rb:51:in `block (2 levels) in truth_table'\u001b[0m",
      "\u001b[37m/home/amandeep/Codes/Development/RubyOnRails/ruby_circuits/lib/ruby_ciruits/digital_circuits/expressions/parse_expressions.rb:46:in `times'\u001b[0m",
      "\u001b[37m/home/amandeep/Codes/Development/RubyOnRails/ruby_circuits/lib/ruby_ciruits/digital_circuits/expressions/parse_expressions.rb:46:in `block in truth_table'\u001b[0m",
      "\u001b[37m/home/amandeep/Codes/Development/RubyOnRails/ruby_circuits/lib/ruby_ciruits/digital_circuits/expressions/parse_expressions.rb:42:in `times'\u001b[0m",
      "\u001b[37m/home/amandeep/Codes/Development/RubyOnRails/ruby_circuits/lib/ruby_ciruits/digital_circuits/expressions/parse_expressions.rb:42:in `truth_table'\u001b[0m",
      "\u001b[37m<main>:1:in `<main>'\u001b[0m",
      "\u001b[37m/var/lib/gems/2.3.0/gems/iruby-0.3/lib/iruby/backend.rb:44:in `eval'\u001b[0m",
      "\u001b[37m/var/lib/gems/2.3.0/gems/iruby-0.3/lib/iruby/backend.rb:44:in `eval'\u001b[0m",
      "\u001b[37m/var/lib/gems/2.3.0/gems/iruby-0.3/lib/iruby/backend.rb:12:in `eval'\u001b[0m",
      "\u001b[37m/var/lib/gems/2.3.0/gems/iruby-0.3/lib/iruby/kernel.rb:87:in `execute_request'\u001b[0m",
      "\u001b[37m/var/lib/gems/2.3.0/gems/iruby-0.3/lib/iruby/kernel.rb:47:in `dispatch'\u001b[0m",
      "\u001b[37m/var/lib/gems/2.3.0/gems/iruby-0.3/lib/iruby/kernel.rb:37:in `run'\u001b[0m",
      "\u001b[37m/var/lib/gems/2.3.0/gems/iruby-0.3/lib/iruby/command.rb:70:in `run_kernel'\u001b[0m",
      "\u001b[37m/var/lib/gems/2.3.0/gems/iruby-0.3/lib/iruby/command.rb:34:in `run'\u001b[0m",
      "\u001b[37m/var/lib/gems/2.3.0/gems/iruby-0.3/bin/iruby:5:in `<top (required)>'\u001b[0m",
      "\u001b[37m/usr/local/bin/iruby:23:in `load'\u001b[0m",
      "\u001b[37m/usr/local/bin/iruby:23:in `<main>'\u001b[0m"
     ]
    }
   ],
   "source": [
    "# Printing the truth table\n",
    "print(expr.truth_table())"
   ]
  }
 ],
 "metadata": {
  "kernelspec": {
   "display_name": "Ruby 2.3.3",
   "language": "ruby",
   "name": "ruby"
  },
  "language_info": {
   "file_extension": ".rb",
   "mimetype": "application/x-ruby",
   "name": "ruby",
   "version": "2.3.3"
  }
 },
 "nbformat": 4,
 "nbformat_minor": 2
}
