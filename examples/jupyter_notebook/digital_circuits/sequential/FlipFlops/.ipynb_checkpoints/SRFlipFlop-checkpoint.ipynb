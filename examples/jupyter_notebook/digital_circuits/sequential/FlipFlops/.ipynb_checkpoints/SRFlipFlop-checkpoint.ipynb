{
 "cells": [
  {
   "cell_type": "markdown",
   "metadata": {},
   "source": [
    "# Sequential Circuits | SRFlipFlop  "
   ]
  },
  {
   "cell_type": "markdown",
   "metadata": {},
   "source": [
    "All Flip Flops are in the module **FlipFlop**. All methods available can be found in the documentation."
   ]
  },
  {
   "cell_type": "code",
   "execution_count": 3,
   "metadata": {},
   "outputs": [
    {
     "data": {
      "text/plain": [
       "true"
      ]
     },
     "execution_count": 3,
     "metadata": {},
     "output_type": "execute_result"
    }
   ],
   "source": [
    "# load gemfile ruby_circuits.rb\n",
    "require '../../../../../lib/ruby_ciruits'"
   ]
  },
  {
   "cell_type": "code",
   "execution_count": 4,
   "metadata": {},
   "outputs": [
    {
     "data": {
      "text/plain": [
       "1"
      ]
     },
     "execution_count": 4,
     "metadata": {},
     "output_type": "execute_result"
    }
   ],
   "source": [
    "# Creating connectors for the inputs of the Flip Flop\n",
    "s = Connector.new(1)\n",
    "r = Connector.new(0)\n",
    "\n",
    "# Creating connectors for the outputs of the Flip Flop\n",
    "p = Connector.new(0)\n",
    "q = Connector.new(1)"
   ]
  },
  {
   "cell_type": "code",
   "execution_count": 5,
   "metadata": {},
   "outputs": [
    {
     "data": {
      "text/plain": [
       "1"
      ]
     },
     "execution_count": 5,
     "metadata": {},
     "output_type": "execute_result"
    }
   ],
   "source": [
    "# Create a clock instance\n",
    "clock = Clock.new(1, 4)\n",
    "clock.start()\n",
    "\n",
    "# A clock of 1 hertz frequency\n",
    "clk_conn = clock.clock_connector\n",
    "\n",
    "# Create a new connector of enable\n",
    "enable = Connector.new(1)"
   ]
  },
  {
   "cell_type": "code",
   "execution_count": 6,
   "metadata": {},
   "outputs": [],
   "source": [
    "# Create a SRLatch instance\n",
    "srff = FlipFlop::SRLatch.new(s, r, enable, clk_conn)\n",
    "\n",
    "# Setting the output of the Flip Flop instance\n",
    "srff.set_outputs({\"A\" => p, \"B\" => q})"
   ]
  },
  {
   "cell_type": "code",
   "execution_count": null,
   "metadata": {},
   "outputs": [],
   "source": [
    "puts(\"SET STATE - S = 1, R = 0\")\n",
    "\n",
    "# Set State - this can also be done by using srff.set_inputs({\"S\" => 1, \"R\" => 0})\n",
    "s.state = 1\n",
    "r.state = 0\n",
    "\n",
    "# The same thing \n",
    "while True:\n",
    "    if clk_conn.state == 0:\n",
    "        # Falling edge will trigger the FF\n",
    "        srff.trigger()\n",
    "        break\n",
    "print (srff.state())\n",
    "# Sending a positive edge to srff\n",
    "while True:\n",
    "    if clk_conn.state == 1:\n",
    "        # Falling edge will trigger the FF\n",
    "        srff.trigger()\n",
    "        break"
   ]
  }
 ],
 "metadata": {
  "kernelspec": {
   "display_name": "Ruby 2.3.3",
   "language": "ruby",
   "name": "ruby"
  },
  "language_info": {
   "file_extension": ".rb",
   "mimetype": "application/x-ruby",
   "name": "ruby",
   "version": "2.3.3"
  }
 },
 "nbformat": 4,
 "nbformat_minor": 2
}
