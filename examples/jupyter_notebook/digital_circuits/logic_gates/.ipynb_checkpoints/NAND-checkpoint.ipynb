{
 "cells": [
  {
   "cell_type": "markdown",
   "metadata": {},
   "source": [
    "# Logic Gates | NAND Gate"
   ]
  },
  {
   "cell_type": "markdown",
   "metadata": {},
   "source": [
    " All Gates are in the module **LogicGates**. All methods available can be found in the documentation."
   ]
  },
  {
   "cell_type": "code",
   "execution_count": 16,
   "metadata": {},
   "outputs": [
    {
     "data": {
      "text/plain": [
       "false"
      ]
     },
     "execution_count": 16,
     "metadata": {},
     "output_type": "execute_result"
    }
   ],
   "source": [
    "# load gemfile ruby_circuits.rb\n",
    "require '../../../../lib/ruby_ciruits'"
   ]
  },
  {
   "cell_type": "markdown",
   "metadata": {},
   "source": [
    "Creating a new **NAND** gate which bits as inputs. This is a 2-input **NAND** gate can be extended to n-input gate by passing n-inputs"
   ]
  },
  {
   "cell_type": "code",
   "execution_count": 11,
   "metadata": {},
   "outputs": [
    {
     "name": "stdout",
     "output_type": "stream",
     "text": [
      "1"
     ]
    }
   ],
   "source": [
    "# Creating a new AND gate instance - LogicGates is the module\n",
    "gate = LogicGates::NAND.new(0, 1)\n",
    "\n",
    "# output of the NOT gate\n",
    "print(gate.output())"
   ]
  },
  {
   "cell_type": "code",
   "execution_count": 12,
   "metadata": {},
   "outputs": [
    {
     "name": "stdout",
     "output_type": "stream",
     "text": [
      "[1, 1, 1, 1]"
     ]
    }
   ],
   "source": [
    "# Passing any number of inputs while creating the gate\n",
    "gate = LogicGates::NAND.new(1, 1, 1, 1)\n",
    "\n",
    "# Get the input states of the gate instance\n",
    "print(gate.get_input_states())"
   ]
  },
  {
   "cell_type": "code",
   "execution_count": 13,
   "metadata": {},
   "outputs": [
    {
     "name": "stdout",
     "output_type": "stream",
     "text": [
      "0"
     ]
    }
   ],
   "source": [
    "print(gate.output())"
   ]
  },
  {
   "cell_type": "code",
   "execution_count": 14,
   "metadata": {},
   "outputs": [
    {
     "name": "stdout",
     "output_type": "stream",
     "text": [
      "1"
     ]
    }
   ],
   "source": [
    "# Create a new Connector(wire) instance\n",
    "conn = Connector.new\n",
    "\n",
    "# Set output of the gate instance to the Connector conn\n",
    "gate.set_output(conn)\n",
    "\n",
    "# Creating a new gate, with input as conn \n",
    "gate1 = LogicGates::NAND.new(conn, 0)\n",
    "\n",
    "#output of gate1\n",
    "print(gate1.output())"
   ]
  },
  {
   "cell_type": "code",
   "execution_count": 15,
   "metadata": {},
   "outputs": [
    {
     "name": "stdout",
     "output_type": "stream",
     "text": [
      "NAND\n"
     ]
    }
   ],
   "source": [
    "# to get the type of the gate instance\n",
    "puts(gate)"
   ]
  }
 ],
 "metadata": {
  "kernelspec": {
   "display_name": "Ruby 2.3.3",
   "language": "ruby",
   "name": "ruby"
  },
  "language_info": {
   "file_extension": ".rb",
   "mimetype": "application/x-ruby",
   "name": "ruby",
   "version": "2.3.3"
  }
 },
 "nbformat": 4,
 "nbformat_minor": 2
}
