{
 "cells": [
  {
   "cell_type": "markdown",
   "metadata": {},
   "source": [
    "# Sequential Circuits | Binary Counter"
   ]
  },
  {
   "cell_type": "markdown",
   "metadata": {},
   "source": [
    "All Counters are in the module **Counter**. All methods available can be found in the documentation."
   ]
  },
  {
   "cell_type": "code",
   "execution_count": 1,
   "metadata": {},
   "outputs": [
    {
     "data": {
      "text/plain": [
       "true"
      ]
     },
     "execution_count": 1,
     "metadata": {},
     "output_type": "execute_result"
    }
   ],
   "source": [
    "# load gemfile ruby_circuits.rb\n",
    "require '../../../../../lib/ruby_ciruits'"
   ]
  },
  {
   "cell_type": "code",
   "execution_count": 2,
   "metadata": {},
   "outputs": [
    {
     "data": {
      "text/plain": [
       "0"
      ]
     },
     "execution_count": 2,
     "metadata": {},
     "output_type": "execute_result"
    }
   ],
   "source": [
    "# Create a clock instance - 5Hz frequency\n",
    "clock = Clock.new(0, 1)\n",
    "clock.start()\n",
    "\n",
    "clk_conn = clock.clock_connector"
   ]
  },
  {
   "cell_type": "code",
   "execution_count": 3,
   "metadata": {},
   "outputs": [
    {
     "data": {
      "text/plain": [
       "#<Counter::Binary:0x00563badc20440 @bits=2, @out=[0, 0], @out_inverse=[1, 1], @out_old=[0, 0], @out_old_inverse=[1, 1], @ff=[#<FlipFlop::T:0x00563badc10c70 @A=0, @B=1, @clk=0, @clk_old_value=1, @enable=1, @J=1, @K=1, @preset=1, @clear=1>, #<FlipFlop::T:0x00563badc122c8 @A=0, @B=1, @clk=0, @clk_old_value=1, @enable=1, @J=1, @K=1, @preset=1, @clear=1>], @enable=1, @t=1, @clk=0, @set_once=false, @reset_once=false, @bits_fixed=false, @ripple_type=true, @preset=1, @clear=1>"
      ]
     },
     "execution_count": 3,
     "metadata": {},
     "output_type": "execute_result"
    }
   ],
   "source": [
    "# Initialize the counter\n",
    "bc = Counter::Binary.new(2, clk_conn)"
   ]
  },
  {
   "cell_type": "code",
   "execution_count": 4,
   "metadata": {},
   "outputs": [
    {
     "name": "stdout",
     "output_type": "stream",
     "text": [
      "\u001b[0m\u001b[0m"
     ]
    }
   ],
   "source": [
    "# Initializing the Oscillioscope\n",
    "o = Oscilloscope.new([clk_conn, 'CLK'], [bc.out[0], 'MSB'], [bc.out[1], 'LSB'])\n",
    "o.start()\n",
    "o.set_scale(0.15)  \n",
    "# Set the width of the oscilloscope [ To fit the ipython Notebook ]\n",
    "o.set_width(100)\n",
    "# unhold the oscilloscope to start the recording.\n",
    "o.unhold()"
   ]
  },
  {
   "cell_type": "code",
   "execution_count": 5,
   "metadata": {},
   "outputs": [
    {
     "name": "stdout",
     "output_type": "stream",
     "text": [
      "[0, 0]\n",
      "[0, 1]\n",
      "[1, 0]\n",
      "[1, 1]\n",
      "[0, 0]\n",
      "[0, 1]\n",
      "[1, 0]\n",
      "[1, 1]\n",
      "[0, 0]\n",
      "[0, 1]\n",
      "[1, 0]\n"
     ]
    },
    {
     "data": {
      "text/plain": [
       "10"
      ]
     },
     "execution_count": 5,
     "metadata": {},
     "output_type": "execute_result"
    }
   ],
   "source": [
    "# Initial stste\n",
    "puts(bc.state())\n",
    "\n",
    "# Triggering the Binary Counter 10 times.\n",
    "10.times do\n",
    "    bc.trigger()\n",
    "    puts(bc.state())\n",
    "end"
   ]
  },
  {
   "cell_type": "code",
   "execution_count": 52,
   "metadata": {},
   "outputs": [
    {
     "name": "stdout",
     "output_type": "stream",
     "text": [
      "\u001b[0m===================================================================================================================\n",
      "Oscilloscope\n",
      "===================================================================================================================\n",
      "                                                                               SCALE - X-AXIS : 1 UNIT WIDTH = 0.15\n",
      "===================================================================================================================\n",
      "          │\n",
      "          │\n",
      "          │ ┌┐      ┌─────┐      ┌──────┐     ┌──────┐      ┌─────┐      ┌─────┐      ┌──────┐     ┌──────┐                                                       \n",
      "     CLK  │ ││      │     │      │      │     │      │      │     │      │     │      │      │     │      │                                                       \n",
      "          ─ ┘└──────┘     └──────┘      └─────┘      └──────┘     └──────┘     └──────┘      └─────┘      └───────────────────────────────────────────────────────\n",
      "          │\n",
      "          │\n",
      "          │\n",
      "          │\n",
      "          │ ┌───────────────────────────────────────────────────────────────────────────────────────────────────┐                                                 \n",
      "     MSB  │ │                                                                                                   │                                                 \n",
      "          ─ ┘                                                                                                   └─────────────────────────────────────────────────\n",
      "          │\n",
      "          │\n",
      "          │\n",
      "          │\n",
      "          │                                                                                                                                                       \n",
      "     LSB  │                                                                                                                                                       \n",
      "          ─ ──────────────────────────────────────────────────────────────────────────────────────────────────────────────────────────────────────────────────────\n",
      "          │\n",
      "          │\n",
      "│││││││││││││││││││││││││││││││││││││││││││││││││││││││││││││││││││││││││││││││││││││││││││││││││││││││││││││││││││\n",
      "───────────────────────────────────────────────────────────────────────────────────────────────────────────────────\n",
      "\u001b[0m"
     ]
    }
   ],
   "source": [
    "# Display the oscilloscope\n",
    "o.display()"
   ]
  },
  {
   "cell_type": "code",
   "execution_count": 6,
   "metadata": {},
   "outputs": [
    {
     "name": "stdout",
     "output_type": "stream",
     "text": [
      "[1, 1]\n"
     ]
    }
   ],
   "source": [
    "# Setting the counter\n",
    "bc.set_counter()\n",
    "puts(bc.state())"
   ]
  },
  {
   "cell_type": "code",
   "execution_count": 7,
   "metadata": {},
   "outputs": [
    {
     "name": "stdout",
     "output_type": "stream",
     "text": [
      "[0, 0]\n"
     ]
    }
   ],
   "source": [
    "# Resetting the counter\n",
    "bc.reset_counter()\n",
    "puts(bc.state())"
   ]
  },
  {
   "cell_type": "code",
   "execution_count": 9,
   "metadata": {},
   "outputs": [],
   "source": [
    "# Kill the clock and the oscilloscope after use to avoid overloading \n",
    "o.kill\n",
    "clock.kill"
   ]
  }
 ],
 "metadata": {
  "kernelspec": {
   "display_name": "Ruby 2.3.3",
   "language": "ruby",
   "name": "ruby"
  },
  "language_info": {
   "file_extension": ".rb",
   "mimetype": "application/x-ruby",
   "name": "ruby",
   "version": "2.3.3"
  }
 },
 "nbformat": 4,
 "nbformat_minor": 2
}
