{
 "cells": [
  {
   "cell_type": "markdown",
   "metadata": {},
   "source": [
    "# Sequential Circuits | Ring Counter"
   ]
  },
  {
   "cell_type": "markdown",
   "metadata": {},
   "source": [
    "All Counters are in the module **Counter**. All methods available can be found in the documentation."
   ]
  },
  {
   "cell_type": "code",
   "execution_count": 1,
   "metadata": {},
   "outputs": [
    {
     "data": {
      "text/plain": [
       "true"
      ]
     },
     "execution_count": 1,
     "metadata": {},
     "output_type": "execute_result"
    }
   ],
   "source": [
    "# load gemfile ruby_circuits.rb\n",
    "require '../../../../../lib/ruby_ciruits'"
   ]
  },
  {
   "cell_type": "code",
   "execution_count": 2,
   "metadata": {},
   "outputs": [
    {
     "data": {
      "text/plain": [
       "1"
      ]
     },
     "execution_count": 2,
     "metadata": {},
     "output_type": "execute_result"
    }
   ],
   "source": [
    "# Create a clock instance - 50Hz frequency\n",
    "clock = Clock.new(1, 50)\n",
    "clock.start()\n",
    "\n",
    "# create a enable connector\n",
    "enable = Connector.new(1)"
   ]
  },
  {
   "cell_type": "code",
   "execution_count": 3,
   "metadata": {},
   "outputs": [
    {
     "data": {
      "text/plain": [
       "#<Counter::Ring:0x0055e287c18dc8 @bits=8, @out=[], @out_inverse=[], @out_old=[], @out_old_inverse=[], @ff=[nil, nil, nil, nil, nil, nil, nil, nil], @enable=1, @t=1, @clk=#<Celluloid::Proxy::Cell(Clock:0x2af143e28178) @time_period=0.02 @name=nil @state=0 @starting_state=1 @clock_connector=0 @stopped=false @started=true @clock=#<Timers::Timer:2af143e24cf8 fires in 0.019011761999999988 seconds, recurs every 0.02>>, @set_once=false, @reset_once=false, @bits_fixed=false, @ripple_type=true, @preset=1, @clear=1, @shift_register=#<Register::Shift:0x0055e287c18800 @circular=1, @inputs=[1, 0, 0, 0, 0, 0, 0, 0], @clock=#<Celluloid::Proxy::Cell(Clock:0x2af143e28178) @time_period=0.02 @name=nil @state=0 @starting_state=1 @clock_connector=0 @stopped=false @started=true @clock=#<Timers::Timer:2af143e24cf8 fires in 0.01799936499999999 seconds, recurs every 0.02>>, @clear=1, @result=nil, @output_type={}, @output_connector={}>>"
      ]
     },
     "execution_count": 3,
     "metadata": {},
     "output_type": "execute_result"
    }
   ],
   "source": [
    "# Initializing RingCounter with 8 bits and clock\n",
    "rc = Counter::Ring.new(8, clock)"
   ]
  },
  {
   "cell_type": "code",
   "execution_count": 4,
   "metadata": {},
   "outputs": [
    {
     "name": "stdout",
     "output_type": "stream",
     "text": [
      "[]"
     ]
    }
   ],
   "source": [
    "# Initial State\n",
    "print (rc.state())"
   ]
  },
  {
   "cell_type": "code",
   "execution_count": 5,
   "metadata": {},
   "outputs": [
    {
     "name": "stdout",
     "output_type": "stream",
     "text": [
      "[0, 1, 0, 0, 0, 0, 0, 0]\n",
      "[0, 0, 1, 0, 0, 0, 0, 0]\n",
      "[0, 0, 0, 1, 0, 0, 0, 0]\n",
      "[0, 0, 0, 0, 1, 0, 0, 0]\n",
      "[0, 0, 0, 0, 0, 1, 0, 0]\n",
      "[0, 0, 0, 0, 0, 0, 1, 0]\n",
      "[0, 0, 0, 0, 0, 0, 0, 1]\n",
      "[1, 0, 0, 0, 0, 0, 0, 0]\n"
     ]
    },
    {
     "data": {
      "text/plain": [
       "8"
      ]
     },
     "execution_count": 5,
     "metadata": {},
     "output_type": "execute_result"
    }
   ],
   "source": [
    "# Triggering the counter 8 times\n",
    "8.times do \n",
    "    rc.trigger()\n",
    "    puts(rc.state())\n",
    "end"
   ]
  },
  {
   "cell_type": "code",
   "execution_count": 7,
   "metadata": {},
   "outputs": [],
   "source": [
    "# Kill the clock after use to avoid overloading \n",
    "clock.kill"
   ]
  }
 ],
 "metadata": {
  "kernelspec": {
   "display_name": "Ruby 2.3.3",
   "language": "ruby",
   "name": "ruby"
  },
  "language_info": {
   "file_extension": ".rb",
   "mimetype": "application/x-ruby",
   "name": "ruby",
   "version": "2.3.3"
  }
 },
 "nbformat": 4,
 "nbformat_minor": 2
}
